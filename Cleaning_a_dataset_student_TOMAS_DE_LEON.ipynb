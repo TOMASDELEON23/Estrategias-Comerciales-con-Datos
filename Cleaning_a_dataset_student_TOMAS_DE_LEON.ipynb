{
  "cells": [
    {
      "cell_type": "markdown",
      "metadata": {
        "id": "view-in-github",
        "colab_type": "text"
      },
      "source": [
        "<a href=\"https://colab.research.google.com/github/TOMASDELEON23/Estrategias-Comerciales-con-Datos/blob/main/Cleaning_a_dataset_student_TOMAS_DE_LEON.ipynb\" target=\"_parent\"><img src=\"https://colab.research.google.com/assets/colab-badge.svg\" alt=\"Open In Colab\"/></a>"
      ]
    },
    {
      "cell_type": "markdown",
      "id": "f463c4aa",
      "metadata": {
        "id": "f463c4aa"
      },
      "source": [
        "# Objective\n",
        "\n",
        "The objective of this notebook is get hands-on experience on cleaning a \"dirty\" dataset.\n",
        "Often, datasets are created from \"free-text\" fields. In free-text fields, data validation is not enforced and as a result, many conventions co-exist within the same column of data.\n",
        "Dirty data can also ocurr when collection information from different sources. If these sources use different conventions to represent such data, additional efforts are required to homogenize it at a later stage."
      ]
    },
    {
      "cell_type": "markdown",
      "id": "75033cfc",
      "metadata": {
        "id": "75033cfc"
      },
      "source": [
        "## Setup"
      ]
    },
    {
      "cell_type": "code",
      "execution_count": 1,
      "id": "a7f99ceb",
      "metadata": {
        "id": "a7f99ceb",
        "colab": {
          "base_uri": "https://localhost:8080/"
        },
        "outputId": "38125123-714e-4ccc-a18d-ede0653fde38"
      },
      "outputs": [
        {
          "output_type": "stream",
          "name": "stdout",
          "text": [
            "\u001b[2K     \u001b[90m━━━━━━━━━━━━━━━━━━━━━━━━━━━━━━━━━━━━━━━━\u001b[0m \u001b[32m61.2/61.2 MB\u001b[0m \u001b[31m16.7 MB/s\u001b[0m eta \u001b[36m0:00:00\u001b[0m\n",
            "\u001b[2K     \u001b[90m━━━━━━━━━━━━━━━━━━━━━━━━━━━━━━━━━━━━━━━━\u001b[0m \u001b[32m223.9/223.9 kB\u001b[0m \u001b[31m25.0 MB/s\u001b[0m eta \u001b[36m0:00:00\u001b[0m\n",
            "\u001b[?25h"
          ]
        }
      ],
      "source": [
        "!pip install -q eccd_datasets pygradus"
      ]
    },
    {
      "cell_type": "markdown",
      "source": [],
      "metadata": {
        "id": "zHeQw51b4GXf"
      },
      "id": "zHeQw51b4GXf"
    },
    {
      "cell_type": "code",
      "execution_count": 2,
      "id": "cf5d695d",
      "metadata": {
        "id": "cf5d695d"
      },
      "outputs": [],
      "source": [
        "STUDENT_NAME = \"tomas de leon\"\n",
        "COURSE_NAME = \"eccd-oct23\"\n",
        "EXERCISE_NAME = \"cleaning-a-dataset\""
      ]
    },
    {
      "cell_type": "code",
      "execution_count": 3,
      "id": "0dd01be7",
      "metadata": {
        "id": "0dd01be7"
      },
      "outputs": [],
      "source": [
        "import pandas as pd\n",
        "import numpy as np\n",
        "from eccd_datasets import load_lingerie\n",
        "from pygradus import create_exercise, check_solution\n",
        "import re"
      ]
    },
    {
      "cell_type": "code",
      "execution_count": 4,
      "id": "243e2a30",
      "metadata": {
        "id": "243e2a30"
      },
      "outputs": [],
      "source": [
        "datasets = load_lingerie()"
      ]
    },
    {
      "cell_type": "code",
      "execution_count": 5,
      "id": "754b2677",
      "metadata": {
        "id": "754b2677",
        "outputId": "0c239af0-93fa-413d-e6c6-dd85d7e3e5ea",
        "colab": {
          "base_uri": "https://localhost:8080/"
        }
      },
      "outputs": [
        {
          "output_type": "execute_result",
          "data": {
            "text/plain": [
              "dict_keys(['ae_com', 'amazon_com', 'btemptd_com', 'calvinklein_com', 'hankypanky_com', 'macys_com', 'shop_nordstrom_com', 'us_topshop_com', 'victoriassecret_com'])"
            ]
          },
          "metadata": {},
          "execution_count": 5
        }
      ],
      "source": [
        "datasets.keys()"
      ]
    },
    {
      "cell_type": "markdown",
      "id": "2ed403af",
      "metadata": {
        "id": "2ed403af"
      },
      "source": [
        "## The different datasets on their own"
      ]
    },
    {
      "cell_type": "code",
      "execution_count": 6,
      "id": "4e9e753a",
      "metadata": {
        "id": "4e9e753a",
        "outputId": "37de7649-fbe3-4663-988c-48bfe5db62b4",
        "colab": {
          "base_uri": "https://localhost:8080/",
          "height": 293
        }
      },
      "outputs": [
        {
          "output_type": "execute_result",
          "data": {
            "text/plain": [
              "                       product_name        mrp      price  \\\n",
              "0  Aerie Everyday Loves Lace Cheeky  12.50 USD  12.50 USD   \n",
              "1  Aerie Everyday Loves Lace Cheeky  12.50 USD  12.50 USD   \n",
              "2  Aerie Everyday Loves Lace Cheeky  12.50 USD  12.50 USD   \n",
              "3  Aerie Everyday Loves Lace Cheeky  12.50 USD  12.50 USD   \n",
              "4  Aerie Everyday Loves Lace Cheeky  12.50 USD  12.50 USD   \n",
              "\n",
              "                                             pdp_url brand_name  \\\n",
              "0  https://www.ae.com/aerie-everyday-loves-lace-c...      AERIE   \n",
              "1  https://www.ae.com/aerie-everyday-loves-lace-c...      AERIE   \n",
              "2  https://www.ae.com/aerie-everyday-loves-lace-c...      AERIE   \n",
              "3  https://www.ae.com/aerie-everyday-loves-lace-c...      AERIE   \n",
              "4  https://www.ae.com/aerie-everyday-loves-lace-c...      AERIE   \n",
              "\n",
              "  product_category retailer  \\\n",
              "0         Cheekies    Ae US   \n",
              "1         Cheekies    Ae US   \n",
              "2         Cheekies    Ae US   \n",
              "3         Cheekies    Ae US   \n",
              "4         Cheekies    Ae US   \n",
              "\n",
              "                                         description  rating  review_count  \\\n",
              "0  Introducing Everyday Loves™: Made with love. E...     5.0           8.0   \n",
              "1  Introducing Everyday Loves™: Made with love. E...     5.0           8.0   \n",
              "2  Introducing Everyday Loves™: Made with love. E...     5.0           8.0   \n",
              "3  Introducing Everyday Loves™: Made with love. E...     5.0           8.0   \n",
              "4  Introducing Everyday Loves™: Made with love. E...     5.0           8.0   \n",
              "\n",
              "                                    style_attributes  \\\n",
              "0  [\"Soft lace with the right amount of stretch\",...   \n",
              "1  [\"Soft lace with the right amount of stretch\",...   \n",
              "2  [\"Soft lace with the right amount of stretch\",...   \n",
              "3  [\"Soft lace with the right amount of stretch\",...   \n",
              "4  [\"Soft lace with the right amount of stretch\",...   \n",
              "\n",
              "                          total_sizes                      available_size  \\\n",
              "0  [\"XS\", \"S\", \"M\", \"L\", \"XL\", \"XXL\"]  [\"XS\", \"S\", \"M\", \"L\", \"XL\", \"XXL\"]   \n",
              "1  [\"XS\", \"S\", \"M\", \"L\", \"XL\", \"XXL\"]  [\"XS\", \"S\", \"M\", \"L\", \"XL\", \"XXL\"]   \n",
              "2  [\"XS\", \"S\", \"M\", \"L\", \"XL\", \"XXL\"]  [\"XS\", \"S\", \"M\", \"L\", \"XL\", \"XXL\"]   \n",
              "3  [\"XS\", \"S\", \"M\", \"L\", \"XL\", \"XXL\"]  [\"XS\", \"S\", \"M\", \"L\", \"XL\", \"XXL\"]   \n",
              "4  [\"XS\", \"S\", \"M\", \"L\", \"XL\", \"XXL\"]  [\"XS\", \"S\", \"M\", \"L\", \"XL\", \"XXL\"]   \n",
              "\n",
              "          color  \n",
              "0  Rugged Green  \n",
              "1  Natural Nude  \n",
              "2    True Black  \n",
              "3         White  \n",
              "4    Royal Navy  "
            ],
            "text/html": [
              "\n",
              "  <div id=\"df-d6d47cfe-36ed-43f5-91cb-ddf8cc21e33b\" class=\"colab-df-container\">\n",
              "    <div>\n",
              "<style scoped>\n",
              "    .dataframe tbody tr th:only-of-type {\n",
              "        vertical-align: middle;\n",
              "    }\n",
              "\n",
              "    .dataframe tbody tr th {\n",
              "        vertical-align: top;\n",
              "    }\n",
              "\n",
              "    .dataframe thead th {\n",
              "        text-align: right;\n",
              "    }\n",
              "</style>\n",
              "<table border=\"1\" class=\"dataframe\">\n",
              "  <thead>\n",
              "    <tr style=\"text-align: right;\">\n",
              "      <th></th>\n",
              "      <th>product_name</th>\n",
              "      <th>mrp</th>\n",
              "      <th>price</th>\n",
              "      <th>pdp_url</th>\n",
              "      <th>brand_name</th>\n",
              "      <th>product_category</th>\n",
              "      <th>retailer</th>\n",
              "      <th>description</th>\n",
              "      <th>rating</th>\n",
              "      <th>review_count</th>\n",
              "      <th>style_attributes</th>\n",
              "      <th>total_sizes</th>\n",
              "      <th>available_size</th>\n",
              "      <th>color</th>\n",
              "    </tr>\n",
              "  </thead>\n",
              "  <tbody>\n",
              "    <tr>\n",
              "      <th>0</th>\n",
              "      <td>Aerie Everyday Loves Lace Cheeky</td>\n",
              "      <td>12.50 USD</td>\n",
              "      <td>12.50 USD</td>\n",
              "      <td>https://www.ae.com/aerie-everyday-loves-lace-c...</td>\n",
              "      <td>AERIE</td>\n",
              "      <td>Cheekies</td>\n",
              "      <td>Ae US</td>\n",
              "      <td>Introducing Everyday Loves™: Made with love. E...</td>\n",
              "      <td>5.0</td>\n",
              "      <td>8.0</td>\n",
              "      <td>[\"Soft lace with the right amount of stretch\",...</td>\n",
              "      <td>[\"XS\", \"S\", \"M\", \"L\", \"XL\", \"XXL\"]</td>\n",
              "      <td>[\"XS\", \"S\", \"M\", \"L\", \"XL\", \"XXL\"]</td>\n",
              "      <td>Rugged Green</td>\n",
              "    </tr>\n",
              "    <tr>\n",
              "      <th>1</th>\n",
              "      <td>Aerie Everyday Loves Lace Cheeky</td>\n",
              "      <td>12.50 USD</td>\n",
              "      <td>12.50 USD</td>\n",
              "      <td>https://www.ae.com/aerie-everyday-loves-lace-c...</td>\n",
              "      <td>AERIE</td>\n",
              "      <td>Cheekies</td>\n",
              "      <td>Ae US</td>\n",
              "      <td>Introducing Everyday Loves™: Made with love. E...</td>\n",
              "      <td>5.0</td>\n",
              "      <td>8.0</td>\n",
              "      <td>[\"Soft lace with the right amount of stretch\",...</td>\n",
              "      <td>[\"XS\", \"S\", \"M\", \"L\", \"XL\", \"XXL\"]</td>\n",
              "      <td>[\"XS\", \"S\", \"M\", \"L\", \"XL\", \"XXL\"]</td>\n",
              "      <td>Natural Nude</td>\n",
              "    </tr>\n",
              "    <tr>\n",
              "      <th>2</th>\n",
              "      <td>Aerie Everyday Loves Lace Cheeky</td>\n",
              "      <td>12.50 USD</td>\n",
              "      <td>12.50 USD</td>\n",
              "      <td>https://www.ae.com/aerie-everyday-loves-lace-c...</td>\n",
              "      <td>AERIE</td>\n",
              "      <td>Cheekies</td>\n",
              "      <td>Ae US</td>\n",
              "      <td>Introducing Everyday Loves™: Made with love. E...</td>\n",
              "      <td>5.0</td>\n",
              "      <td>8.0</td>\n",
              "      <td>[\"Soft lace with the right amount of stretch\",...</td>\n",
              "      <td>[\"XS\", \"S\", \"M\", \"L\", \"XL\", \"XXL\"]</td>\n",
              "      <td>[\"XS\", \"S\", \"M\", \"L\", \"XL\", \"XXL\"]</td>\n",
              "      <td>True Black</td>\n",
              "    </tr>\n",
              "    <tr>\n",
              "      <th>3</th>\n",
              "      <td>Aerie Everyday Loves Lace Cheeky</td>\n",
              "      <td>12.50 USD</td>\n",
              "      <td>12.50 USD</td>\n",
              "      <td>https://www.ae.com/aerie-everyday-loves-lace-c...</td>\n",
              "      <td>AERIE</td>\n",
              "      <td>Cheekies</td>\n",
              "      <td>Ae US</td>\n",
              "      <td>Introducing Everyday Loves™: Made with love. E...</td>\n",
              "      <td>5.0</td>\n",
              "      <td>8.0</td>\n",
              "      <td>[\"Soft lace with the right amount of stretch\",...</td>\n",
              "      <td>[\"XS\", \"S\", \"M\", \"L\", \"XL\", \"XXL\"]</td>\n",
              "      <td>[\"XS\", \"S\", \"M\", \"L\", \"XL\", \"XXL\"]</td>\n",
              "      <td>White</td>\n",
              "    </tr>\n",
              "    <tr>\n",
              "      <th>4</th>\n",
              "      <td>Aerie Everyday Loves Lace Cheeky</td>\n",
              "      <td>12.50 USD</td>\n",
              "      <td>12.50 USD</td>\n",
              "      <td>https://www.ae.com/aerie-everyday-loves-lace-c...</td>\n",
              "      <td>AERIE</td>\n",
              "      <td>Cheekies</td>\n",
              "      <td>Ae US</td>\n",
              "      <td>Introducing Everyday Loves™: Made with love. E...</td>\n",
              "      <td>5.0</td>\n",
              "      <td>8.0</td>\n",
              "      <td>[\"Soft lace with the right amount of stretch\",...</td>\n",
              "      <td>[\"XS\", \"S\", \"M\", \"L\", \"XL\", \"XXL\"]</td>\n",
              "      <td>[\"XS\", \"S\", \"M\", \"L\", \"XL\", \"XXL\"]</td>\n",
              "      <td>Royal Navy</td>\n",
              "    </tr>\n",
              "  </tbody>\n",
              "</table>\n",
              "</div>\n",
              "    <div class=\"colab-df-buttons\">\n",
              "\n",
              "  <div class=\"colab-df-container\">\n",
              "    <button class=\"colab-df-convert\" onclick=\"convertToInteractive('df-d6d47cfe-36ed-43f5-91cb-ddf8cc21e33b')\"\n",
              "            title=\"Convert this dataframe to an interactive table.\"\n",
              "            style=\"display:none;\">\n",
              "\n",
              "  <svg xmlns=\"http://www.w3.org/2000/svg\" height=\"24px\" viewBox=\"0 -960 960 960\">\n",
              "    <path d=\"M120-120v-720h720v720H120Zm60-500h600v-160H180v160Zm220 220h160v-160H400v160Zm0 220h160v-160H400v160ZM180-400h160v-160H180v160Zm440 0h160v-160H620v160ZM180-180h160v-160H180v160Zm440 0h160v-160H620v160Z\"/>\n",
              "  </svg>\n",
              "    </button>\n",
              "\n",
              "  <style>\n",
              "    .colab-df-container {\n",
              "      display:flex;\n",
              "      gap: 12px;\n",
              "    }\n",
              "\n",
              "    .colab-df-convert {\n",
              "      background-color: #E8F0FE;\n",
              "      border: none;\n",
              "      border-radius: 50%;\n",
              "      cursor: pointer;\n",
              "      display: none;\n",
              "      fill: #1967D2;\n",
              "      height: 32px;\n",
              "      padding: 0 0 0 0;\n",
              "      width: 32px;\n",
              "    }\n",
              "\n",
              "    .colab-df-convert:hover {\n",
              "      background-color: #E2EBFA;\n",
              "      box-shadow: 0px 1px 2px rgba(60, 64, 67, 0.3), 0px 1px 3px 1px rgba(60, 64, 67, 0.15);\n",
              "      fill: #174EA6;\n",
              "    }\n",
              "\n",
              "    .colab-df-buttons div {\n",
              "      margin-bottom: 4px;\n",
              "    }\n",
              "\n",
              "    [theme=dark] .colab-df-convert {\n",
              "      background-color: #3B4455;\n",
              "      fill: #D2E3FC;\n",
              "    }\n",
              "\n",
              "    [theme=dark] .colab-df-convert:hover {\n",
              "      background-color: #434B5C;\n",
              "      box-shadow: 0px 1px 3px 1px rgba(0, 0, 0, 0.15);\n",
              "      filter: drop-shadow(0px 1px 2px rgba(0, 0, 0, 0.3));\n",
              "      fill: #FFFFFF;\n",
              "    }\n",
              "  </style>\n",
              "\n",
              "    <script>\n",
              "      const buttonEl =\n",
              "        document.querySelector('#df-d6d47cfe-36ed-43f5-91cb-ddf8cc21e33b button.colab-df-convert');\n",
              "      buttonEl.style.display =\n",
              "        google.colab.kernel.accessAllowed ? 'block' : 'none';\n",
              "\n",
              "      async function convertToInteractive(key) {\n",
              "        const element = document.querySelector('#df-d6d47cfe-36ed-43f5-91cb-ddf8cc21e33b');\n",
              "        const dataTable =\n",
              "          await google.colab.kernel.invokeFunction('convertToInteractive',\n",
              "                                                    [key], {});\n",
              "        if (!dataTable) return;\n",
              "\n",
              "        const docLinkHtml = 'Like what you see? Visit the ' +\n",
              "          '<a target=\"_blank\" href=https://colab.research.google.com/notebooks/data_table.ipynb>data table notebook</a>'\n",
              "          + ' to learn more about interactive tables.';\n",
              "        element.innerHTML = '';\n",
              "        dataTable['output_type'] = 'display_data';\n",
              "        await google.colab.output.renderOutput(dataTable, element);\n",
              "        const docLink = document.createElement('div');\n",
              "        docLink.innerHTML = docLinkHtml;\n",
              "        element.appendChild(docLink);\n",
              "      }\n",
              "    </script>\n",
              "  </div>\n",
              "\n",
              "\n",
              "<div id=\"df-d3de1bd2-e277-4505-b610-36d0f6c38be1\">\n",
              "  <button class=\"colab-df-quickchart\" onclick=\"quickchart('df-d3de1bd2-e277-4505-b610-36d0f6c38be1')\"\n",
              "            title=\"Suggest charts\"\n",
              "            style=\"display:none;\">\n",
              "\n",
              "<svg xmlns=\"http://www.w3.org/2000/svg\" height=\"24px\"viewBox=\"0 0 24 24\"\n",
              "     width=\"24px\">\n",
              "    <g>\n",
              "        <path d=\"M19 3H5c-1.1 0-2 .9-2 2v14c0 1.1.9 2 2 2h14c1.1 0 2-.9 2-2V5c0-1.1-.9-2-2-2zM9 17H7v-7h2v7zm4 0h-2V7h2v10zm4 0h-2v-4h2v4z\"/>\n",
              "    </g>\n",
              "</svg>\n",
              "  </button>\n",
              "\n",
              "<style>\n",
              "  .colab-df-quickchart {\n",
              "      --bg-color: #E8F0FE;\n",
              "      --fill-color: #1967D2;\n",
              "      --hover-bg-color: #E2EBFA;\n",
              "      --hover-fill-color: #174EA6;\n",
              "      --disabled-fill-color: #AAA;\n",
              "      --disabled-bg-color: #DDD;\n",
              "  }\n",
              "\n",
              "  [theme=dark] .colab-df-quickchart {\n",
              "      --bg-color: #3B4455;\n",
              "      --fill-color: #D2E3FC;\n",
              "      --hover-bg-color: #434B5C;\n",
              "      --hover-fill-color: #FFFFFF;\n",
              "      --disabled-bg-color: #3B4455;\n",
              "      --disabled-fill-color: #666;\n",
              "  }\n",
              "\n",
              "  .colab-df-quickchart {\n",
              "    background-color: var(--bg-color);\n",
              "    border: none;\n",
              "    border-radius: 50%;\n",
              "    cursor: pointer;\n",
              "    display: none;\n",
              "    fill: var(--fill-color);\n",
              "    height: 32px;\n",
              "    padding: 0;\n",
              "    width: 32px;\n",
              "  }\n",
              "\n",
              "  .colab-df-quickchart:hover {\n",
              "    background-color: var(--hover-bg-color);\n",
              "    box-shadow: 0 1px 2px rgba(60, 64, 67, 0.3), 0 1px 3px 1px rgba(60, 64, 67, 0.15);\n",
              "    fill: var(--button-hover-fill-color);\n",
              "  }\n",
              "\n",
              "  .colab-df-quickchart-complete:disabled,\n",
              "  .colab-df-quickchart-complete:disabled:hover {\n",
              "    background-color: var(--disabled-bg-color);\n",
              "    fill: var(--disabled-fill-color);\n",
              "    box-shadow: none;\n",
              "  }\n",
              "\n",
              "  .colab-df-spinner {\n",
              "    border: 2px solid var(--fill-color);\n",
              "    border-color: transparent;\n",
              "    border-bottom-color: var(--fill-color);\n",
              "    animation:\n",
              "      spin 1s steps(1) infinite;\n",
              "  }\n",
              "\n",
              "  @keyframes spin {\n",
              "    0% {\n",
              "      border-color: transparent;\n",
              "      border-bottom-color: var(--fill-color);\n",
              "      border-left-color: var(--fill-color);\n",
              "    }\n",
              "    20% {\n",
              "      border-color: transparent;\n",
              "      border-left-color: var(--fill-color);\n",
              "      border-top-color: var(--fill-color);\n",
              "    }\n",
              "    30% {\n",
              "      border-color: transparent;\n",
              "      border-left-color: var(--fill-color);\n",
              "      border-top-color: var(--fill-color);\n",
              "      border-right-color: var(--fill-color);\n",
              "    }\n",
              "    40% {\n",
              "      border-color: transparent;\n",
              "      border-right-color: var(--fill-color);\n",
              "      border-top-color: var(--fill-color);\n",
              "    }\n",
              "    60% {\n",
              "      border-color: transparent;\n",
              "      border-right-color: var(--fill-color);\n",
              "    }\n",
              "    80% {\n",
              "      border-color: transparent;\n",
              "      border-right-color: var(--fill-color);\n",
              "      border-bottom-color: var(--fill-color);\n",
              "    }\n",
              "    90% {\n",
              "      border-color: transparent;\n",
              "      border-bottom-color: var(--fill-color);\n",
              "    }\n",
              "  }\n",
              "</style>\n",
              "\n",
              "  <script>\n",
              "    async function quickchart(key) {\n",
              "      const quickchartButtonEl =\n",
              "        document.querySelector('#' + key + ' button');\n",
              "      quickchartButtonEl.disabled = true;  // To prevent multiple clicks.\n",
              "      quickchartButtonEl.classList.add('colab-df-spinner');\n",
              "      try {\n",
              "        const charts = await google.colab.kernel.invokeFunction(\n",
              "            'suggestCharts', [key], {});\n",
              "      } catch (error) {\n",
              "        console.error('Error during call to suggestCharts:', error);\n",
              "      }\n",
              "      quickchartButtonEl.classList.remove('colab-df-spinner');\n",
              "      quickchartButtonEl.classList.add('colab-df-quickchart-complete');\n",
              "    }\n",
              "    (() => {\n",
              "      let quickchartButtonEl =\n",
              "        document.querySelector('#df-d3de1bd2-e277-4505-b610-36d0f6c38be1 button');\n",
              "      quickchartButtonEl.style.display =\n",
              "        google.colab.kernel.accessAllowed ? 'block' : 'none';\n",
              "    })();\n",
              "  </script>\n",
              "</div>\n",
              "    </div>\n",
              "  </div>\n"
            ]
          },
          "metadata": {},
          "execution_count": 6
        }
      ],
      "source": [
        "datasets[\"ae_com\"].head()"
      ]
    },
    {
      "cell_type": "code",
      "execution_count": 7,
      "id": "b2bb67ab",
      "metadata": {
        "id": "b2bb67ab",
        "outputId": "b719f76f-8787-4469-eed2-8df5c36264dc",
        "colab": {
          "base_uri": "https://localhost:8080/",
          "height": 379
        }
      },
      "outputs": [
        {
          "output_type": "execute_result",
          "data": {
            "text/plain": [
              "                                        product_name      mrp    price  \\\n",
              "0  Calvin Klein Women's Sheer Marquisette Demi Un...  $36.00   $32.40    \n",
              "1                   Wacoal Embrace Lace Bikini Panty  $27.00   $27.00    \n",
              "2     Wacoal Women's Slimline Seamless Minimizer Bra  $65.00   $65.00    \n",
              "3     Hanky Panky Womens Signature Lace Retro V-Kini  $36.00   $36.00    \n",
              "4            Wacoal Women's Red Carpet Strapless Bra  $65.00   $65.00    \n",
              "\n",
              "                                             pdp_url    brand_name  \\\n",
              "0  https://www.amazon.com/-/dp/B01NAVD98J?th=1&psc=1  Calvin-Klein   \n",
              "1  https://www.amazon.com/-/dp/B0011YQFNK?th=1&psc=1        Wacoal   \n",
              "2  https://www.amazon.com/-/dp/B000T3606Q?th=1&psc=1        Wacoal   \n",
              "3  https://www.amazon.com/-/dp/B003Y6AX0Y?th=1&psc=1   Hanky-Panky   \n",
              "4  https://www.amazon.com/-/dp/B01CEBGQA0?th=1&psc=1        Wacoal   \n",
              "\n",
              "  product_category   retailer  \\\n",
              "0             Bras  Amazon US   \n",
              "1          Panties  Amazon US   \n",
              "2             Bras  Amazon US   \n",
              "3          Panties  Amazon US   \n",
              "4             Bras  Amazon US   \n",
              "\n",
              "                                         description  rating  review_count  \\\n",
              "0  An unlined demi cup bra featuring sheer, sexy ...     4.5            47   \n",
              "1  Embrace lace bikini offers great fit and match...     4.4            91   \n",
              "2  Seamless underwire minimizer bra gives great s...     4.3           298   \n",
              "3  All-day comfort describes this figure-flatteri...     4.4            46   \n",
              "4  Red Carpet full figure strapless fits great, s...     4.4           747   \n",
              "\n",
              "                                    style_attributes  \\\n",
              "0  [ 72% Nylon, 28% Elastane , Imported , hook an...   \n",
              "1  [ 100% Nylon , Imported , Hand Wash , 1.2\" hig...   \n",
              "2  [ Cups: 100% Polyester; Back: 71% Nylon, 29% S...   \n",
              "3  [ Made in USA , All-day comfort describes this...   \n",
              "4  [ 91% Nylon, 9% Spandex , Imported , hook and ...   \n",
              "\n",
              "                                         total_sizes  \\\n",
              "0  30B , 30C , 30D , 30DD , 32A , 32B , 32C , 32D...   \n",
              "1                   Small , Medium , Large , X-Large   \n",
              "2  32DD , 32DDD , 34C , 34D , 34DD , 34DDD , 36C ...   \n",
              "3                   Small , Medium , Large , X-Large   \n",
              "4  30D , 30DD , 30DDD , 30G , 32C , 32D , 32DD , ...   \n",
              "\n",
              "                                      available_size  color  \n",
              "0  30B , 30C , 30D , 30DD , 32B , 32C , 32D , 32D...   Bare  \n",
              "1                           Small , Medium , X-Large  Large  \n",
              "2  32DD , 32DDD , 34C , 34D , 34DD , 34DDD , 36C ...  Black  \n",
              "3                           Small , Medium , X-Large  Large  \n",
              "4  30D , 30DD , 30DDD , 30G , 32C , 32D , 32DD , ...  Pecan  "
            ],
            "text/html": [
              "\n",
              "  <div id=\"df-005b301b-94cb-406e-8bd7-e1ebf6290719\" class=\"colab-df-container\">\n",
              "    <div>\n",
              "<style scoped>\n",
              "    .dataframe tbody tr th:only-of-type {\n",
              "        vertical-align: middle;\n",
              "    }\n",
              "\n",
              "    .dataframe tbody tr th {\n",
              "        vertical-align: top;\n",
              "    }\n",
              "\n",
              "    .dataframe thead th {\n",
              "        text-align: right;\n",
              "    }\n",
              "</style>\n",
              "<table border=\"1\" class=\"dataframe\">\n",
              "  <thead>\n",
              "    <tr style=\"text-align: right;\">\n",
              "      <th></th>\n",
              "      <th>product_name</th>\n",
              "      <th>mrp</th>\n",
              "      <th>price</th>\n",
              "      <th>pdp_url</th>\n",
              "      <th>brand_name</th>\n",
              "      <th>product_category</th>\n",
              "      <th>retailer</th>\n",
              "      <th>description</th>\n",
              "      <th>rating</th>\n",
              "      <th>review_count</th>\n",
              "      <th>style_attributes</th>\n",
              "      <th>total_sizes</th>\n",
              "      <th>available_size</th>\n",
              "      <th>color</th>\n",
              "    </tr>\n",
              "  </thead>\n",
              "  <tbody>\n",
              "    <tr>\n",
              "      <th>0</th>\n",
              "      <td>Calvin Klein Women's Sheer Marquisette Demi Un...</td>\n",
              "      <td>$36.00</td>\n",
              "      <td>$32.40</td>\n",
              "      <td>https://www.amazon.com/-/dp/B01NAVD98J?th=1&amp;psc=1</td>\n",
              "      <td>Calvin-Klein</td>\n",
              "      <td>Bras</td>\n",
              "      <td>Amazon US</td>\n",
              "      <td>An unlined demi cup bra featuring sheer, sexy ...</td>\n",
              "      <td>4.5</td>\n",
              "      <td>47</td>\n",
              "      <td>[ 72% Nylon, 28% Elastane , Imported , hook an...</td>\n",
              "      <td>30B , 30C , 30D , 30DD , 32A , 32B , 32C , 32D...</td>\n",
              "      <td>30B , 30C , 30D , 30DD , 32B , 32C , 32D , 32D...</td>\n",
              "      <td>Bare</td>\n",
              "    </tr>\n",
              "    <tr>\n",
              "      <th>1</th>\n",
              "      <td>Wacoal Embrace Lace Bikini Panty</td>\n",
              "      <td>$27.00</td>\n",
              "      <td>$27.00</td>\n",
              "      <td>https://www.amazon.com/-/dp/B0011YQFNK?th=1&amp;psc=1</td>\n",
              "      <td>Wacoal</td>\n",
              "      <td>Panties</td>\n",
              "      <td>Amazon US</td>\n",
              "      <td>Embrace lace bikini offers great fit and match...</td>\n",
              "      <td>4.4</td>\n",
              "      <td>91</td>\n",
              "      <td>[ 100% Nylon , Imported , Hand Wash , 1.2\" hig...</td>\n",
              "      <td>Small , Medium , Large , X-Large</td>\n",
              "      <td>Small , Medium , X-Large</td>\n",
              "      <td>Large</td>\n",
              "    </tr>\n",
              "    <tr>\n",
              "      <th>2</th>\n",
              "      <td>Wacoal Women's Slimline Seamless Minimizer Bra</td>\n",
              "      <td>$65.00</td>\n",
              "      <td>$65.00</td>\n",
              "      <td>https://www.amazon.com/-/dp/B000T3606Q?th=1&amp;psc=1</td>\n",
              "      <td>Wacoal</td>\n",
              "      <td>Bras</td>\n",
              "      <td>Amazon US</td>\n",
              "      <td>Seamless underwire minimizer bra gives great s...</td>\n",
              "      <td>4.3</td>\n",
              "      <td>298</td>\n",
              "      <td>[ Cups: 100% Polyester; Back: 71% Nylon, 29% S...</td>\n",
              "      <td>32DD , 32DDD , 34C , 34D , 34DD , 34DDD , 36C ...</td>\n",
              "      <td>32DD , 32DDD , 34C , 34D , 34DD , 34DDD , 36C ...</td>\n",
              "      <td>Black</td>\n",
              "    </tr>\n",
              "    <tr>\n",
              "      <th>3</th>\n",
              "      <td>Hanky Panky Womens Signature Lace Retro V-Kini</td>\n",
              "      <td>$36.00</td>\n",
              "      <td>$36.00</td>\n",
              "      <td>https://www.amazon.com/-/dp/B003Y6AX0Y?th=1&amp;psc=1</td>\n",
              "      <td>Hanky-Panky</td>\n",
              "      <td>Panties</td>\n",
              "      <td>Amazon US</td>\n",
              "      <td>All-day comfort describes this figure-flatteri...</td>\n",
              "      <td>4.4</td>\n",
              "      <td>46</td>\n",
              "      <td>[ Made in USA , All-day comfort describes this...</td>\n",
              "      <td>Small , Medium , Large , X-Large</td>\n",
              "      <td>Small , Medium , X-Large</td>\n",
              "      <td>Large</td>\n",
              "    </tr>\n",
              "    <tr>\n",
              "      <th>4</th>\n",
              "      <td>Wacoal Women's Red Carpet Strapless Bra</td>\n",
              "      <td>$65.00</td>\n",
              "      <td>$65.00</td>\n",
              "      <td>https://www.amazon.com/-/dp/B01CEBGQA0?th=1&amp;psc=1</td>\n",
              "      <td>Wacoal</td>\n",
              "      <td>Bras</td>\n",
              "      <td>Amazon US</td>\n",
              "      <td>Red Carpet full figure strapless fits great, s...</td>\n",
              "      <td>4.4</td>\n",
              "      <td>747</td>\n",
              "      <td>[ 91% Nylon, 9% Spandex , Imported , hook and ...</td>\n",
              "      <td>30D , 30DD , 30DDD , 30G , 32C , 32D , 32DD , ...</td>\n",
              "      <td>30D , 30DD , 30DDD , 30G , 32C , 32D , 32DD , ...</td>\n",
              "      <td>Pecan</td>\n",
              "    </tr>\n",
              "  </tbody>\n",
              "</table>\n",
              "</div>\n",
              "    <div class=\"colab-df-buttons\">\n",
              "\n",
              "  <div class=\"colab-df-container\">\n",
              "    <button class=\"colab-df-convert\" onclick=\"convertToInteractive('df-005b301b-94cb-406e-8bd7-e1ebf6290719')\"\n",
              "            title=\"Convert this dataframe to an interactive table.\"\n",
              "            style=\"display:none;\">\n",
              "\n",
              "  <svg xmlns=\"http://www.w3.org/2000/svg\" height=\"24px\" viewBox=\"0 -960 960 960\">\n",
              "    <path d=\"M120-120v-720h720v720H120Zm60-500h600v-160H180v160Zm220 220h160v-160H400v160Zm0 220h160v-160H400v160ZM180-400h160v-160H180v160Zm440 0h160v-160H620v160ZM180-180h160v-160H180v160Zm440 0h160v-160H620v160Z\"/>\n",
              "  </svg>\n",
              "    </button>\n",
              "\n",
              "  <style>\n",
              "    .colab-df-container {\n",
              "      display:flex;\n",
              "      gap: 12px;\n",
              "    }\n",
              "\n",
              "    .colab-df-convert {\n",
              "      background-color: #E8F0FE;\n",
              "      border: none;\n",
              "      border-radius: 50%;\n",
              "      cursor: pointer;\n",
              "      display: none;\n",
              "      fill: #1967D2;\n",
              "      height: 32px;\n",
              "      padding: 0 0 0 0;\n",
              "      width: 32px;\n",
              "    }\n",
              "\n",
              "    .colab-df-convert:hover {\n",
              "      background-color: #E2EBFA;\n",
              "      box-shadow: 0px 1px 2px rgba(60, 64, 67, 0.3), 0px 1px 3px 1px rgba(60, 64, 67, 0.15);\n",
              "      fill: #174EA6;\n",
              "    }\n",
              "\n",
              "    .colab-df-buttons div {\n",
              "      margin-bottom: 4px;\n",
              "    }\n",
              "\n",
              "    [theme=dark] .colab-df-convert {\n",
              "      background-color: #3B4455;\n",
              "      fill: #D2E3FC;\n",
              "    }\n",
              "\n",
              "    [theme=dark] .colab-df-convert:hover {\n",
              "      background-color: #434B5C;\n",
              "      box-shadow: 0px 1px 3px 1px rgba(0, 0, 0, 0.15);\n",
              "      filter: drop-shadow(0px 1px 2px rgba(0, 0, 0, 0.3));\n",
              "      fill: #FFFFFF;\n",
              "    }\n",
              "  </style>\n",
              "\n",
              "    <script>\n",
              "      const buttonEl =\n",
              "        document.querySelector('#df-005b301b-94cb-406e-8bd7-e1ebf6290719 button.colab-df-convert');\n",
              "      buttonEl.style.display =\n",
              "        google.colab.kernel.accessAllowed ? 'block' : 'none';\n",
              "\n",
              "      async function convertToInteractive(key) {\n",
              "        const element = document.querySelector('#df-005b301b-94cb-406e-8bd7-e1ebf6290719');\n",
              "        const dataTable =\n",
              "          await google.colab.kernel.invokeFunction('convertToInteractive',\n",
              "                                                    [key], {});\n",
              "        if (!dataTable) return;\n",
              "\n",
              "        const docLinkHtml = 'Like what you see? Visit the ' +\n",
              "          '<a target=\"_blank\" href=https://colab.research.google.com/notebooks/data_table.ipynb>data table notebook</a>'\n",
              "          + ' to learn more about interactive tables.';\n",
              "        element.innerHTML = '';\n",
              "        dataTable['output_type'] = 'display_data';\n",
              "        await google.colab.output.renderOutput(dataTable, element);\n",
              "        const docLink = document.createElement('div');\n",
              "        docLink.innerHTML = docLinkHtml;\n",
              "        element.appendChild(docLink);\n",
              "      }\n",
              "    </script>\n",
              "  </div>\n",
              "\n",
              "\n",
              "<div id=\"df-919be8da-03f4-4f16-927a-130b1d0cdaae\">\n",
              "  <button class=\"colab-df-quickchart\" onclick=\"quickchart('df-919be8da-03f4-4f16-927a-130b1d0cdaae')\"\n",
              "            title=\"Suggest charts\"\n",
              "            style=\"display:none;\">\n",
              "\n",
              "<svg xmlns=\"http://www.w3.org/2000/svg\" height=\"24px\"viewBox=\"0 0 24 24\"\n",
              "     width=\"24px\">\n",
              "    <g>\n",
              "        <path d=\"M19 3H5c-1.1 0-2 .9-2 2v14c0 1.1.9 2 2 2h14c1.1 0 2-.9 2-2V5c0-1.1-.9-2-2-2zM9 17H7v-7h2v7zm4 0h-2V7h2v10zm4 0h-2v-4h2v4z\"/>\n",
              "    </g>\n",
              "</svg>\n",
              "  </button>\n",
              "\n",
              "<style>\n",
              "  .colab-df-quickchart {\n",
              "      --bg-color: #E8F0FE;\n",
              "      --fill-color: #1967D2;\n",
              "      --hover-bg-color: #E2EBFA;\n",
              "      --hover-fill-color: #174EA6;\n",
              "      --disabled-fill-color: #AAA;\n",
              "      --disabled-bg-color: #DDD;\n",
              "  }\n",
              "\n",
              "  [theme=dark] .colab-df-quickchart {\n",
              "      --bg-color: #3B4455;\n",
              "      --fill-color: #D2E3FC;\n",
              "      --hover-bg-color: #434B5C;\n",
              "      --hover-fill-color: #FFFFFF;\n",
              "      --disabled-bg-color: #3B4455;\n",
              "      --disabled-fill-color: #666;\n",
              "  }\n",
              "\n",
              "  .colab-df-quickchart {\n",
              "    background-color: var(--bg-color);\n",
              "    border: none;\n",
              "    border-radius: 50%;\n",
              "    cursor: pointer;\n",
              "    display: none;\n",
              "    fill: var(--fill-color);\n",
              "    height: 32px;\n",
              "    padding: 0;\n",
              "    width: 32px;\n",
              "  }\n",
              "\n",
              "  .colab-df-quickchart:hover {\n",
              "    background-color: var(--hover-bg-color);\n",
              "    box-shadow: 0 1px 2px rgba(60, 64, 67, 0.3), 0 1px 3px 1px rgba(60, 64, 67, 0.15);\n",
              "    fill: var(--button-hover-fill-color);\n",
              "  }\n",
              "\n",
              "  .colab-df-quickchart-complete:disabled,\n",
              "  .colab-df-quickchart-complete:disabled:hover {\n",
              "    background-color: var(--disabled-bg-color);\n",
              "    fill: var(--disabled-fill-color);\n",
              "    box-shadow: none;\n",
              "  }\n",
              "\n",
              "  .colab-df-spinner {\n",
              "    border: 2px solid var(--fill-color);\n",
              "    border-color: transparent;\n",
              "    border-bottom-color: var(--fill-color);\n",
              "    animation:\n",
              "      spin 1s steps(1) infinite;\n",
              "  }\n",
              "\n",
              "  @keyframes spin {\n",
              "    0% {\n",
              "      border-color: transparent;\n",
              "      border-bottom-color: var(--fill-color);\n",
              "      border-left-color: var(--fill-color);\n",
              "    }\n",
              "    20% {\n",
              "      border-color: transparent;\n",
              "      border-left-color: var(--fill-color);\n",
              "      border-top-color: var(--fill-color);\n",
              "    }\n",
              "    30% {\n",
              "      border-color: transparent;\n",
              "      border-left-color: var(--fill-color);\n",
              "      border-top-color: var(--fill-color);\n",
              "      border-right-color: var(--fill-color);\n",
              "    }\n",
              "    40% {\n",
              "      border-color: transparent;\n",
              "      border-right-color: var(--fill-color);\n",
              "      border-top-color: var(--fill-color);\n",
              "    }\n",
              "    60% {\n",
              "      border-color: transparent;\n",
              "      border-right-color: var(--fill-color);\n",
              "    }\n",
              "    80% {\n",
              "      border-color: transparent;\n",
              "      border-right-color: var(--fill-color);\n",
              "      border-bottom-color: var(--fill-color);\n",
              "    }\n",
              "    90% {\n",
              "      border-color: transparent;\n",
              "      border-bottom-color: var(--fill-color);\n",
              "    }\n",
              "  }\n",
              "</style>\n",
              "\n",
              "  <script>\n",
              "    async function quickchart(key) {\n",
              "      const quickchartButtonEl =\n",
              "        document.querySelector('#' + key + ' button');\n",
              "      quickchartButtonEl.disabled = true;  // To prevent multiple clicks.\n",
              "      quickchartButtonEl.classList.add('colab-df-spinner');\n",
              "      try {\n",
              "        const charts = await google.colab.kernel.invokeFunction(\n",
              "            'suggestCharts', [key], {});\n",
              "      } catch (error) {\n",
              "        console.error('Error during call to suggestCharts:', error);\n",
              "      }\n",
              "      quickchartButtonEl.classList.remove('colab-df-spinner');\n",
              "      quickchartButtonEl.classList.add('colab-df-quickchart-complete');\n",
              "    }\n",
              "    (() => {\n",
              "      let quickchartButtonEl =\n",
              "        document.querySelector('#df-919be8da-03f4-4f16-927a-130b1d0cdaae button');\n",
              "      quickchartButtonEl.style.display =\n",
              "        google.colab.kernel.accessAllowed ? 'block' : 'none';\n",
              "    })();\n",
              "  </script>\n",
              "</div>\n",
              "    </div>\n",
              "  </div>\n"
            ]
          },
          "metadata": {},
          "execution_count": 7
        }
      ],
      "source": [
        "datasets[\"amazon_com\"].head()"
      ]
    },
    {
      "cell_type": "markdown",
      "id": "5ac7ef49",
      "metadata": {
        "id": "5ac7ef49"
      },
      "source": [
        "### Joining all the datasets into one"
      ]
    },
    {
      "cell_type": "code",
      "execution_count": 8,
      "id": "f9b40821",
      "metadata": {
        "id": "f9b40821"
      },
      "outputs": [],
      "source": [
        "df = pd.concat(datasets.values())"
      ]
    },
    {
      "cell_type": "code",
      "execution_count": 9,
      "id": "eaab8237",
      "metadata": {
        "id": "eaab8237",
        "outputId": "3ffcbf55-4025-4324-df34-8765ec1105d8",
        "colab": {
          "base_uri": "https://localhost:8080/"
        }
      },
      "outputs": [
        {
          "output_type": "execute_result",
          "data": {
            "text/plain": [
              "(613143, 14)"
            ]
          },
          "metadata": {},
          "execution_count": 9
        }
      ],
      "source": [
        "df.shape"
      ]
    },
    {
      "cell_type": "markdown",
      "id": "63cff1b0",
      "metadata": {
        "id": "63cff1b0"
      },
      "source": [
        "# Calculating statistics on the dataset"
      ]
    },
    {
      "cell_type": "markdown",
      "id": "b4a4f704",
      "metadata": {
        "id": "b4a4f704"
      },
      "source": [
        "## Unifying Victoria's Secret"
      ]
    },
    {
      "cell_type": "code",
      "execution_count": 10,
      "id": "58f918f9",
      "metadata": {
        "id": "58f918f9"
      },
      "outputs": [],
      "source": [
        "def unify_victoria_secret(df):\n",
        "    \"\"\"\n",
        "    We want that all brands that are related to Victoria's Secret\n",
        "    have `victoria's secret` as their brand instead of what they\n",
        "    currently have.\n",
        "    \"\"\"\n",
        "    df = df.copy()\n",
        "    new_string = \"victoria's secret\"\n",
        "    victorias= list(df.brand_name[df.brand_name.str.contains(r\"Victoria\")].unique())\n",
        "    def Victoria(x):\n",
        "        if x in victorias:\n",
        "            return new_string\n",
        "        else:\n",
        "            return x\n",
        "    df['brand_name']=df['brand_name'].map(Victoria)\n",
        "    return df\n"
      ]
    },
    {
      "cell_type": "code",
      "execution_count": 11,
      "id": "aaeab15e",
      "metadata": {
        "id": "aaeab15e"
      },
      "outputs": [],
      "source": [
        "df_unified = unify_victoria_secret(df)\n"
      ]
    },
    {
      "cell_type": "code",
      "execution_count": 12,
      "id": "339f6c62",
      "metadata": {
        "id": "339f6c62",
        "outputId": "561b2604-0644-4f01-cbaf-d980ccc5056b",
        "colab": {
          "base_uri": "https://localhost:8080/"
        }
      },
      "outputs": [
        {
          "output_type": "stream",
          "name": "stdout",
          "text": [
            "453453\n"
          ]
        }
      ],
      "source": [
        "answer_victoria_secret =df_unified[df_unified[\"brand_name\"] == \"victoria's secret\"].shape[0]\n",
        "print(answer_victoria_secret)"
      ]
    },
    {
      "cell_type": "code",
      "source": [
        "#df_unified['price']=df_unified['price'].astype(str)\n",
        "#df_unified[df_unified['price'].str.contains(\"Now\")]\n",
        "#df_unified['price'].to_csv('chequeo.csv')\n",
        "#df_clean['price'].to_csv('chequeos.csv')"
      ],
      "metadata": {
        "id": "dAv2BcpBEs87"
      },
      "id": "dAv2BcpBEs87",
      "execution_count": 13,
      "outputs": []
    },
    {
      "cell_type": "markdown",
      "id": "6a865ee4",
      "metadata": {
        "id": "6a865ee4"
      },
      "source": [
        "## Cleaning up the price\n",
        "\n",
        "In this sectino we are going to transform the `price` column into a float column in USD dolars.\n",
        "\n",
        "For this, be careful of the different formats in the data.\n",
        "\n",
        "For simplicity, you might assume that all the prices are in USD dolars, regarding of the symbol of the currency used."
      ]
    },
    {
      "cell_type": "code",
      "execution_count": 14,
      "id": "06402393",
      "metadata": {
        "id": "06402393"
      },
      "outputs": [],
      "source": [
        "def clean_price(df):\n",
        "    \"\"\"\n",
        "    In this function we will transform the\n",
        "    `price` column into a column of floats.\n",
        "    In case a product has more than one price,\n",
        "    return the lowest one.\n",
        "    \"\"\"\n",
        "    #analisis en google sheet https://docs.google.com/spreadsheets/d/1TSeiMzQixlfxt-hc2Thfj1Sm00-0Qw5I7de4ahnIBUQ/edit#gid=1787893163\n",
        "    #df['price']=df['price'].str.replace(r'[^\\d.]+', '', regex=True)\n",
        "\n",
        "    def min_price(x):\n",
        "\n",
        "      prices = re.findall(r'\\d+\\.\\d+|\\d+', x)\n",
        "      prices = [float(price) for price in prices]\n",
        "      return min(prices) if prices else None\n",
        "\n",
        "    df['price']=df['price'].astype(str)\n",
        "    df['price']=df['price'].apply(min_price)\n",
        "    return df"
      ]
    },
    {
      "cell_type": "code",
      "execution_count": 15,
      "id": "004e5ca1",
      "metadata": {
        "id": "004e5ca1"
      },
      "outputs": [],
      "source": [
        "df_clean = clean_price(df_unified)"
      ]
    },
    {
      "cell_type": "code",
      "execution_count": 16,
      "id": "4ac7fb31",
      "metadata": {
        "id": "4ac7fb31",
        "colab": {
          "base_uri": "https://localhost:8080/"
        },
        "outputId": "0c8260fa-1915-4c7b-fc58-0233c604e7e1"
      },
      "outputs": [
        {
          "output_type": "stream",
          "name": "stdout",
          "text": [
            "20191976.02\n"
          ]
        }
      ],
      "source": [
        "answer_unified_price_sum = df_clean[\"price\"].sum()\n",
        "print(answer_unified_price_sum)"
      ]
    },
    {
      "cell_type": "code",
      "execution_count": 17,
      "id": "6f0b38ab",
      "metadata": {
        "id": "6f0b38ab"
      },
      "outputs": [],
      "source": [
        "def low_high_product_mean(df):\n",
        "    \"\"\"\n",
        "    Finally, we will calculate `product_category` with the lowest and highest mean price\n",
        "    for the brand Victoria's Secret.\n",
        "    \"\"\"\n",
        "    result=df[df['brand_name']==\"victoria's secret\"][['product_category','price']].groupby('product_category').mean().reset_index().sort_values(by='price')\n",
        "    lowest=float(result.head(1)['price'])\n",
        "    highest=float(result.tail(1)['price'])\n",
        "    return lowest,highest\n"
      ]
    },
    {
      "cell_type": "code",
      "execution_count": 18,
      "id": "e3a6dd77",
      "metadata": {
        "id": "e3a6dd77",
        "colab": {
          "base_uri": "https://localhost:8080/"
        },
        "outputId": "4d194feb-fb29-4a1e-dd1d-c23b8eadd943"
      },
      "outputs": [
        {
          "output_type": "stream",
          "name": "stdout",
          "text": [
            "highest_mean 98.0\n"
          ]
        }
      ],
      "source": [
        "lowest_mean, highest_mean = low_high_product_mean(df_clean)\n",
        "assert np.allclose(lowest_mean, 3.6203030303030)\n",
        "print(\"highest_mean\", highest_mean)"
      ]
    },
    {
      "cell_type": "code",
      "execution_count": 19,
      "id": "10bc9c5d",
      "metadata": {
        "id": "10bc9c5d",
        "colab": {
          "base_uri": "https://localhost:8080/"
        },
        "outputId": "5615f9f8-a8ee-48b7-8b9c-cec8f3538a4d"
      },
      "outputs": [
        {
          "output_type": "execute_result",
          "data": {
            "text/plain": [
              "98.0"
            ]
          },
          "metadata": {},
          "execution_count": 19
        }
      ],
      "source": [
        "result=df_clean[df_clean['brand_name']==\"victoria's secret\"][['product_category','price']].groupby('product_category').mean().reset_index().sort_values(by='price')\n",
        "lowest=result.head(1)['price']\n",
        "highest=result.tail(1)['price']\n",
        "float(highest)"
      ]
    },
    {
      "cell_type": "code",
      "execution_count": 20,
      "id": "1ed660f3",
      "metadata": {
        "id": "1ed660f3",
        "colab": {
          "base_uri": "https://localhost:8080/"
        },
        "outputId": "f0eb4342-5cd3-4539-8611-96fddf56dcab"
      },
      "outputs": [
        {
          "output_type": "stream",
          "name": "stdout",
          "text": [
            "|                    Task Name                     |       Status       |\n",
            "|--------------------------------------------------|--------------------|\n",
            "|--------------------------------------------------|--------------------|\n",
            "|                 victoria secret                  |      Correct       |\n",
            "|--------------------------------------------------|--------------------|\n",
            "|                price unification                 |      Correct       |\n",
            "|--------------------------------------------------|--------------------|\n",
            "|                   highest mean                   |      Correct       |\n",
            "|--------------------------------------------------|--------------------|\n"
          ]
        }
      ],
      "source": [
        "\n",
        "proposed_solution = {\n",
        "'attempt': {\n",
        "    'course_name': COURSE_NAME,\n",
        "    'exercise_name': EXERCISE_NAME,\n",
        "    'username': STUDENT_NAME,\n",
        "},\n",
        "'task_attempts': [\n",
        "         {\n",
        "            \"name\": \"victoria secret\",\n",
        "            \"answer\": str(answer_victoria_secret),\n",
        "         },\n",
        "         {\n",
        "            \"name\": \"price unification\",\n",
        "            \"answer\": str(answer_unified_price_sum),\n",
        "         },\n",
        "         {\n",
        "            \"name\": \"highest mean\",\n",
        "            \"answer\": str(highest_mean),\n",
        "         },\n",
        "]\n",
        "\n",
        "}\n",
        "check_solution(proposed_solution)\n"
      ]
    },
    {
      "cell_type": "code",
      "source": [],
      "metadata": {
        "id": "q463yeFTDKvx"
      },
      "id": "q463yeFTDKvx",
      "execution_count": 20,
      "outputs": []
    }
  ],
  "metadata": {
    "colab": {
      "provenance": [],
      "include_colab_link": true
    },
    "language_info": {
      "name": "python"
    },
    "kernelspec": {
      "name": "python3",
      "display_name": "Python 3"
    }
  },
  "nbformat": 4,
  "nbformat_minor": 5
}