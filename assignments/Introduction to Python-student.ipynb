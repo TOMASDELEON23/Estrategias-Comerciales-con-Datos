{
  "cells": [
    {
      "cell_type": "markdown",
      "metadata": {
        "id": "view-in-github",
        "colab_type": "text"
      },
      "source": [
        "<a href=\"https://colab.research.google.com/github/TOMASDELEON23/Estrategias-Comerciales-con-Datos/blob/main/assignments/Introduction%20to%20Python-student.ipynb\" target=\"_parent\"><img src=\"https://colab.research.google.com/assets/colab-badge.svg\" alt=\"Open In Colab\"/></a>"
      ]
    },
    {
      "cell_type": "code",
      "execution_count": 1,
      "id": "52aef2b0",
      "metadata": {
        "id": "52aef2b0",
        "outputId": "541d6212-1dc0-40b8-c40b-cdafa41ecff9",
        "colab": {
          "base_uri": "https://localhost:8080/"
        }
      },
      "outputs": [
        {
          "output_type": "stream",
          "name": "stdout",
          "text": [
            "\u001b[?25l     \u001b[90m━━━━━━━━━━━━━━━━━━━━━━━━━━━━━━━━━━━━━━━━\u001b[0m \u001b[32m0.0/223.9 kB\u001b[0m \u001b[31m?\u001b[0m eta \u001b[36m-:--:--\u001b[0m\r\u001b[2K     \u001b[91m━━━━━━━\u001b[0m\u001b[90m╺\u001b[0m\u001b[90m━━━━━━━━━━━━━━━━━━━━━━━━━━━━━━━━\u001b[0m \u001b[32m41.0/223.9 kB\u001b[0m \u001b[31m1.0 MB/s\u001b[0m eta \u001b[36m0:00:01\u001b[0m\r\u001b[2K     \u001b[90m━━━━━━━━━━━━━━━━━━━━━━━━━━━━━━━━━━━━━━━━\u001b[0m \u001b[32m223.9/223.9 kB\u001b[0m \u001b[31m3.2 MB/s\u001b[0m eta \u001b[36m0:00:00\u001b[0m\n",
            "\u001b[?25h"
          ]
        }
      ],
      "source": [
        "!pip install -q pygradus"
      ]
    },
    {
      "cell_type": "code",
      "execution_count": 2,
      "id": "6803b395",
      "metadata": {
        "id": "6803b395"
      },
      "outputs": [],
      "source": [
        "STUDENT_NAME = \"tomas-de-leon\"\n",
        "COURSE_NAME = \"eccd-oct23\"\n",
        "EXERCISE_NAME = \"python-intro\""
      ]
    },
    {
      "cell_type": "code",
      "execution_count": 3,
      "id": "7dd000a1",
      "metadata": {
        "id": "7dd000a1"
      },
      "outputs": [],
      "source": [
        "import numpy as np\n",
        "from pygradus import create_exercise, check_solution"
      ]
    },
    {
      "cell_type": "code",
      "execution_count": 4,
      "id": "b8baa78d",
      "metadata": {
        "id": "b8baa78d",
        "outputId": "3bb888cf-6fc3-4941-dbb3-1adccd01c829",
        "colab": {
          "base_uri": "https://localhost:8080/"
        }
      },
      "outputs": [
        {
          "output_type": "stream",
          "name": "stdout",
          "text": [
            "Ingresa una frase: ksadgnaoeruihg pokaNSFDG\n",
            "Frase s/ vocales: ksdgnrhg pkNSFDG\n"
          ]
        }
      ],
      "source": [
        "def remove_vowels(s: str) -> str:\n",
        "    \"\"\"\n",
        "    This function removes all vowels from strings\n",
        "    Example: \"hello\" -> \"hll\"\n",
        "    \"\"\"\n",
        "    vowels = \"AEIOUaeiouáéíóúÁÉÍÓÚ\"\n",
        "    result = \"\"\n",
        "\n",
        "    for char in s:\n",
        "        # Si el carácter no es una vocal, añadirlo al resultado\n",
        "        if char not in vowels:\n",
        "            result += char\n",
        "\n",
        "    return result\n",
        "\n",
        "frase = input(\"Ingresa una frase: \")\n",
        "sin_vocales = remove_vowels(frase)\n",
        "\n",
        "print(\"Frase s/ vocales:\", sin_vocales)"
      ]
    },
    {
      "cell_type": "code",
      "execution_count": 5,
      "id": "4cf0bffd",
      "metadata": {
        "id": "4cf0bffd",
        "outputId": "a0be3738-25fe-4dfa-eb8d-ad6babbb0d9b",
        "colab": {
          "base_uri": "https://localhost:8080/"
        }
      },
      "outputs": [
        {
          "output_type": "stream",
          "name": "stdout",
          "text": [
            "st f n bn d\n"
          ]
        }
      ],
      "source": [
        "assert remove_vowels(\"hola\") == \"hl\"\n",
        "answer_1  = remove_vowels(\"este fue un buen día\")\n",
        "print(answer_1)"
      ]
    },
    {
      "cell_type": "code",
      "execution_count": 6,
      "id": "7c35d789",
      "metadata": {
        "id": "7c35d789",
        "outputId": "361d10be-598f-4328-b9b5-e4bdd4d12870",
        "colab": {
          "base_uri": "https://localhost:8080/"
        }
      },
      "outputs": [
        {
          "output_type": "stream",
          "name": "stdout",
          "text": [
            "Resultado: [10.9, -0.25, 12.629999999999999]\n"
          ]
        }
      ],
      "source": [
        "def sum_list_of_floats(a: list, b:list) -> list:\n",
        "    \"\"\"\n",
        "    Returns the coordinate wise sum of a and b.\n",
        "    \"\"\"\n",
        "    if len(a) != len(b):\n",
        "        raise ValueError(\"por favor introducir listas del mismo largho\")\n",
        "\n",
        "    calculo = [x + y for x, y in zip(a, b)]\n",
        "    return calculo\n",
        "\n",
        "lista1 = [8.9, 5, 3.63]\n",
        "lista2 = [2, -5.25, 9]\n",
        "\n",
        "try:\n",
        "    answer_2 = sum_list_of_floats(lista1, lista2)\n",
        "    print(\"Resultado:\", answer_2)\n",
        "except ValueError as e:\n",
        "    print(e)"
      ]
    },
    {
      "cell_type": "code",
      "execution_count": 7,
      "id": "67936cb1",
      "metadata": {
        "id": "67936cb1",
        "outputId": "46dc96b3-afac-46d4-a1f2-e11c82fdf539",
        "colab": {
          "base_uri": "https://localhost:8080/"
        }
      },
      "outputs": [
        {
          "output_type": "stream",
          "name": "stdout",
          "text": [
            "[1, -1]\n"
          ]
        }
      ],
      "source": [
        "assert np.allclose(\n",
        "    sum_list_of_floats(\n",
        "        [1, 2, 3], [4, 5, -2.3]),\n",
        "    [5, 7, 0.7]\n",
        ")\n",
        "answer_2 = sum_list_of_floats([0, 0], [1, -1])\n",
        "print(answer_2)"
      ]
    },
    {
      "cell_type": "code",
      "execution_count": 8,
      "id": "040eff31",
      "metadata": {
        "id": "040eff31",
        "outputId": "de37444d-1233-4e3d-a65b-a4c84c1391df",
        "colab": {
          "base_uri": "https://localhost:8080/"
        }
      },
      "outputs": [
        {
          "output_type": "stream",
          "name": "stdout",
          "text": [
            "|                    Task Name                     |       Status       |\n",
            "|--------------------------------------------------|--------------------|\n",
            "|--------------------------------------------------|--------------------|\n",
            "|                  remove_vowels                   |      Correct       |\n",
            "|--------------------------------------------------|--------------------|\n",
            "|                    sum_floats                    |      Correct       |\n",
            "|--------------------------------------------------|--------------------|\n"
          ]
        }
      ],
      "source": [
        "proposed_solution = {\n",
        "'attempt': {\n",
        "    'course_name': COURSE_NAME,\n",
        "    'exercise_name': EXERCISE_NAME,\n",
        "    'username': STUDENT_NAME,\n",
        "},\n",
        "'task_attempts': [\n",
        "         {\n",
        "             \"name\": \"remove_vowels\",\n",
        "             \"answer\": str(answer_1),\n",
        "         },\n",
        "                  {\n",
        "             \"name\": \"sum_floats\",\n",
        "             \"answer\": str(answer_2),\n",
        "         }\n",
        "]\n",
        "\n",
        "}\n",
        "check_solution(proposed_solution)"
      ]
    },
    {
      "cell_type": "code",
      "source": [],
      "metadata": {
        "id": "TVymkv1Uv2h4"
      },
      "id": "TVymkv1Uv2h4",
      "execution_count": null,
      "outputs": []
    }
  ],
  "metadata": {
    "colab": {
      "provenance": [],
      "include_colab_link": true
    },
    "language_info": {
      "name": "python"
    },
    "kernelspec": {
      "name": "python3",
      "display_name": "Python 3"
    }
  },
  "nbformat": 4,
  "nbformat_minor": 5
}